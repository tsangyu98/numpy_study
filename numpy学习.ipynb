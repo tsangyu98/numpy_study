{
 "cells": [
  {
   "cell_type": "code",
   "execution_count": null,
   "metadata": {},
   "outputs": [],
   "source": [
    "'''\n",
    "numpy基础数据结构\n",
    "\n",
    "numpy数组是一个多维数组对象，称为ndarray。由两部分组成：\n",
    "①实际的数据\n",
    "②描述这些数据的元数据\n",
    "'''"
   ]
  },
  {
   "cell_type": "code",
   "execution_count": 12,
   "metadata": {},
   "outputs": [
    {
     "name": "stdout",
     "output_type": "stream",
     "text": [
      "[[1 2 3 4 5 6 7]\n",
      " [2 3 4 5 6 7 8]]\n",
      "2\n",
      "(2, 7)\n",
      "14\n",
      "8\n",
      "int64\n",
      "<memory at 0x11ca6ac18>\n"
     ]
    }
   ],
   "source": [
    "# 多维数组ndarray\n",
    "\n",
    "import numpy as np\n",
    "\n",
    "ar = np.array([[1, 2, 3, 4, 5, 6, 7], [2, 3, 4, 5, 6, 7, 8]])\n",
    "print(ar)  # 输出的数据有中括号包括，但是每个元素之间没有逗号（列表中间有逗号分隔）\n",
    "print(ar.ndim)  # ndim方法可以显示数组的维度数量(rank)\n",
    "print(ar.shape)  # 显示是n行m列的数据，(n, m)\n",
    "print(ar.size)  # 显示数组里的元素个数，n×m\n",
    "print(ar.itemsize)  # 显示数组中每个元素的字节大小，int32类型的字节是4，int64类型的字节是8\n",
    "print(ar.dtype)  # 显示数组中元素的类型，类似于python中的type()函数\n",
    "print(ar.data)  # 显示实际数组元素的缓冲区\n",
    "\n",
    "# 数组的基本属性\n",
    "# 数组的维度称为秩(rank)，一维数组的秩为1，二维数组的秩为2..."
   ]
  },
  {
   "cell_type": "code",
   "execution_count": 24,
   "metadata": {},
   "outputs": [
    {
     "name": "stdout",
     "output_type": "stream",
     "text": [
      "[0 1 2 3 4 5 6 7 8 9]\n",
      "[1.   2.   3.14 4.   5.  ]\n",
      "[['1' '2' '3']\n",
      " ['a' 'b' 'c']]\n",
      "1\n",
      "(2,)\n",
      "2\n"
     ]
    }
   ],
   "source": [
    "# 数组的创建：array()函数，括号里可以是是列表，元组，数组，生成器\n",
    "ar1 = np.array(range(10))  # 生成器创建数组，整型\n",
    "print(ar1)\n",
    "ar2 = np.array([1, 2, 3.14, 4, 5])  # 列表创建数组，浮点型\n",
    "print(ar2)\n",
    "ar3 = np.array([[1, 2, 3], ('a', 'b', 'c')])\n",
    "print(ar3)\n",
    "ar4 = np.array([[1, 2, 3], ('a', 'b', 'c', 'd')])  # 序列数量不相同，不是二维数组，是一维数组\n",
    "print(ar4.ndim)  # 显示序列数量不同的数组是一维数组\n",
    "print(ar4.shape)\n",
    "print(ar4.size)  # 显示元素个数为2"
   ]
  },
  {
   "cell_type": "code",
   "execution_count": 29,
   "metadata": {},
   "outputs": [
    {
     "name": "stdout",
     "output_type": "stream",
     "text": [
      "[0 1 2 3 4 5 6 7 8 9]\n",
      "[0. 1. 2. 3. 4. 5. 6. 7. 8. 9.]\n",
      "[ 5  6  7  8  9 10 11]\n",
      "[ 5.  7.  9. 11.]\n"
     ]
    }
   ],
   "source": [
    "# 创建数组:arange(),效果类似于range(),在给定间隔内返回均匀间隔的值\n",
    "print(np.arange(10))  # 生成0-9的序列，整型\n",
    "print(np.arange(10.0))  # 生成0.0-9.0的浮点型序列\n",
    "print(np.arange(5, 12))  # 生成5-11的序列\n",
    "print(np.arange(5.0, 12, 2))  # 返回5.0-11.0，步长为2"
   ]
  },
  {
   "cell_type": "code",
   "execution_count": 33,
   "metadata": {},
   "outputs": [
    {
     "name": "stdout",
     "output_type": "stream",
     "text": [
      "[2.   2.25 2.5  2.75 3.  ]\n",
      "[2.  2.2 2.4 2.6 2.8]\n",
      "(array([2.  , 2.25, 2.5 , 2.75, 3.  ]), 0.25)\n"
     ]
    }
   ],
   "source": [
    "# 创建数组:linspace():返回在间隔[开始，结束]上计算的num个均匀间隔的样本\n",
    "ar1 = np.linspace(2.0, 3.0, num=5)\n",
    "print(ar1)\n",
    "ar2 = np.linspace(2.0, 3.0, num=5, endpoint=False)  # endpoint参数如果为真，那么就包含最后一个元素，否则不包括，默认值为True\n",
    "print(ar2)  \n",
    "ar3 = np.linspace(2.0, 3.0, num=5, retstep=True)  # retstep为True,返回一个元组，第一个为数组，第二个为步长\n",
    "print(ar3)"
   ]
  },
  {
   "cell_type": "code",
   "execution_count": 44,
   "metadata": {},
   "outputs": [
    {
     "name": "stdout",
     "output_type": "stream",
     "text": [
      "[[0. 0. 0. 0. 0. 0.]\n",
      " [0. 0. 0. 0. 0. 0.]\n",
      " [0. 0. 0. 0. 0. 0.]\n",
      " [0. 0. 0. 0. 0. 0.]\n",
      " [0. 0. 0. 0. 0. 0.]]\n",
      "[[0. 0. 0. 0. 0. 0.]\n",
      " [0. 0. 0. 0. 0. 0.]\n",
      " [0. 0. 0. 0. 0. 0.]\n",
      " [0. 0. 0. 0. 0. 0.]\n",
      " [0. 0. 0. 0. 0. 0.]] float64\n",
      "**************************************************\n",
      "[[0 1 2 3 4]\n",
      " [5 6 7 8 9]]\n",
      "[[0 0 0 0 0]\n",
      " [0 0 0 0 0]]\n",
      "**************************************************\n",
      "[[1. 1. 1. 1. 1. 1.]\n",
      " [1. 1. 1. 1. 1. 1.]\n",
      " [1. 1. 1. 1. 1. 1.]\n",
      " [1. 1. 1. 1. 1. 1.]\n",
      " [1. 1. 1. 1. 1. 1.]]\n",
      "[[1 1 1 1 1]\n",
      " [1 1 1 1 1]]\n"
     ]
    }
   ],
   "source": [
    "# 创建数组:zeros()/zeros_like()/ones()/ones_like()\n",
    "ar1 = np.zeros((5,6))  # 生成一个五行六列全为0的数组\n",
    "print(ar1)\n",
    "ar2 = np.zeros((5, 6))\n",
    "print(ar2, ar2.dtype)\n",
    "# numpy.zeros(shape, dtype, order='C')\n",
    "# 生成一个几行几列的数组，元素用0填充\n",
    "# shape:数组维数\n",
    "# dtype:数据类型，默认为float64\n",
    "# order:是否在存储器中以C或Fortran连续（按行或列方式）存储多维数据\n",
    "print(\"*\"  *  50)\n",
    "ar3 = np.array([list(range(5)), list(range(5, 10))])\n",
    "print(ar3)\n",
    "ar4 = np.zeros_like(ar3)\n",
    "print(ar4)\n",
    "# 返回具有与给定数组相同形状和类型的零数组，这里ar4是根据ar3的形状和类型创建的一个全为0的数组\n",
    "print(\"*\"  *  50)\n",
    "ar5 = np.ones((5, 6))\n",
    "print(ar5)\n",
    "ar6 = np.ones_like(ar3)\n",
    "print(ar6)"
   ]
  },
  {
   "cell_type": "code",
   "execution_count": 46,
   "metadata": {},
   "outputs": [
    {
     "name": "stdout",
     "output_type": "stream",
     "text": [
      "[[1. 0. 0. 0. 0.]\n",
      " [0. 1. 0. 0. 0.]\n",
      " [0. 0. 1. 0. 0.]\n",
      " [0. 0. 0. 1. 0.]\n",
      " [0. 0. 0. 0. 1.]]\n"
     ]
    }
   ],
   "source": [
    "# 创建数组:eye()\n",
    "print(np.eye(5))  # 创建一个n×n的单位矩阵，对角线的值都为1，其余为0"
   ]
  },
  {
   "cell_type": "markdown",
   "metadata": {},
   "source": [
    "ndarray的数据类型\n",
    "\n",
    "bool\t用一个字节存储的布尔类型（True或False）\n",
    "\n",
    "int\t由所在平台决定其大小的整数（一般为int32或int64）\n",
    "\n",
    "int8\t一个字节大小，-128 至 127\n",
    "\n",
    "int16\t整数，-32768 至 32767\n",
    "\n",
    "int32\t整数，-2 ** 31 至 2 ** 32 -1\n",
    "\n",
    "int64\t整数，-2 ** 63 至 2 ** 63 - 1\n",
    "\n",
    "uint8\t无符号整数，0 至 255\n",
    "\n",
    "uint16\t无符号整数，0 至 65535\n",
    "\n",
    "uint32\t无符号整数，0 至 2 ** 32 - 1\n",
    "\n",
    "uint64\t无符号整数，0 至 2 ** 64 - 1\n",
    "\n",
    "float16\t半精度浮点数：16位，正负号1位，指数5位，精度10位\n",
    "\n",
    "float32\t单精度浮点数：32位，正负号1位，指数8位，精度23位\n",
    "\n",
    "float64或float\t双精度浮点数：64位，正负号1位，指数11位，精度52位\n",
    "\n",
    "complex64\t复数，分别用两个32位浮点数表示实部和虚部\n",
    "\n",
    "complex128或complex\t复数，分别用两个64位浮点数表示实部和虚部"
   ]
  },
  {
   "cell_type": "markdown",
   "metadata": {},
   "source": [
    "# 作业"
   ]
  },
  {
   "cell_type": "code",
   "execution_count": 51,
   "metadata": {},
   "outputs": [
    {
     "name": "stdout",
     "output_type": "stream",
     "text": [
      "[1 2 'a' 'hello' list([1, 2, 3]) {'two': 200, 'one': 100}]\n",
      "(6,)\n",
      "[['0' '1' '2' '3' '4' '5']\n",
      " ['a' 'b' 'c' 'd' 'e' 'f']\n",
      " ['True' 'False' 'True' 'False' 'True' 'True']]\n",
      "(3, 6)\n"
     ]
    }
   ],
   "source": [
    "# 作业1：分别按照要求，生成一个一维数组、二维数组，并且查看其shape\n",
    "ar1 = np.array([1, 2, \"a\", \"hello\", [1, 2, 3], {\"two\": 200, \"one\": 100}])\n",
    "print(ar1)\n",
    "print(ar1.shape)  # 显示数组1的形状\n",
    "ar2 = np.array([['0', '1', '2', '3', '4', '5'], ['a', 'b', 'c', 'd', 'e', 'f'], ['True', 'False', 'True', 'False', 'True', 'True']])\n",
    "print(ar2)\n",
    "print(ar2.shape)"
   ]
  },
  {
   "cell_type": "code",
   "execution_count": 54,
   "metadata": {},
   "outputs": [
    {
     "name": "stdout",
     "output_type": "stream",
     "text": [
      "[ 5.          6.11111111  7.22222222  8.33333333  9.44444444 10.55555556\n",
      " 11.66666667 12.77777778 13.88888889 15.        ]\n"
     ]
    }
   ],
   "source": [
    "# 作业2：生成一个一维数组，起始值为5，终点值为15，样本数为10个\n",
    "ar1 = np.linspace(5, 15, num=10)\n",
    "print(ar1)"
   ]
  },
  {
   "cell_type": "code",
   "execution_count": 58,
   "metadata": {},
   "outputs": [
    {
     "name": "stdout",
     "output_type": "stream",
     "text": [
      "[[0. 0. 0. 0.]\n",
      " [0. 0. 0. 0.]\n",
      " [0. 0. 0. 0.]\n",
      " [0. 0. 0. 0.]]\n",
      "**************************************************\n",
      "[[1. 1. 1.]\n",
      " [1. 1. 1.]]\n",
      "**************************************************\n",
      "[[1. 0. 0.]\n",
      " [0. 1. 0.]\n",
      " [0. 0. 1.]]\n"
     ]
    }
   ],
   "source": [
    "# 作业3：按照要求创建以下数组\n",
    "# 1.创建一个四行四列的全为0的数组\n",
    "ar1 = np.zeros((4, 4))\n",
    "print(ar1)\n",
    "print(\"*\" * 50)\n",
    "# 2.创建一个两行三列的全为1的数组\n",
    "ar2 = np.ones((2, 3))\n",
    "print(ar2)\n",
    "print(\"*\" * 50)\n",
    "# 3.创建一个三行三列的单位矩阵\n",
    "ar3 = np.eye(3)\n",
    "print(ar3)"
   ]
  },
  {
   "cell_type": "code",
   "execution_count": null,
   "metadata": {},
   "outputs": [],
   "source": [
    "'''\n",
    "numpy通用函数\n",
    "基本操作\n",
    "'''"
   ]
  },
  {
   "cell_type": "code",
   "execution_count": 72,
   "metadata": {},
   "outputs": [
    {
     "name": "stdout",
     "output_type": "stream",
     "text": [
      "[0 1 2 3 4 5 6 7 8 9]\n",
      "[0 1 2 3 4 5 6 7 8 9]\n",
      "[[1. 1.]\n",
      " [1. 1.]\n",
      " [1. 1.]\n",
      " [1. 1.]\n",
      " [1. 1.]]\n",
      "[[1. 1. 1. 1. 1.]\n",
      " [1. 1. 1. 1. 1.]]\n",
      "**************************************************\n",
      "[[0 1 2 3 4]\n",
      " [5 6 7 8 9]]\n",
      "[[0. 0. 0. 0. 0. 0. 0. 0.]\n",
      " [0. 0. 0. 0. 0. 0. 0. 0.]\n",
      " [0. 0. 0. 0. 0. 0. 0. 0.]]\n",
      "[[ 0  1  2  3]\n",
      " [ 4  5  6  7]\n",
      " [ 8  9 10 11]]\n",
      "**************************************************\n",
      "[[0 1 2 3]\n",
      " [4 0 1 2]\n",
      " [3 4 0 1]]\n"
     ]
    }
   ],
   "source": [
    "# 数组形状:.T/.reshape()/.resize()\n",
    "ar1 = np.arange(10)\n",
    "print(ar1)\n",
    "print(ar1.T)\n",
    "ar2 = np.ones((5, 2))\n",
    "print(ar2)\n",
    "print(ar2.T)\n",
    "# .T代表转置，但是一维数组转置后结果不变\n",
    "print(\"*\" * 50)\n",
    "ar3 = ar1.reshape(2, 5)  # 将已有的数组改变形状\n",
    "print(ar3)\n",
    "ar4 = np.zeros((4, 6)).reshape(3, 8)\n",
    "print(ar4)\n",
    "ar5 = np.reshape(np.arange(12), (3, 4))\n",
    "print(ar5)\n",
    "# 元素的数量必须一样\n",
    "print(\"*\" * 50)\n",
    "ar6 = np.resize(np.arange(5), (3, 4))\n",
    "print(ar6)\n",
    "# numpy.resize(a, new_shape):返回具有指定形状的新数组，如有需要可以重复填充所需数量的元素\n",
    "# .T/.reshape()/.resize()都是生成新的数组"
   ]
  },
  {
   "cell_type": "code",
   "execution_count": 78,
   "metadata": {},
   "outputs": [
    {
     "name": "stdout",
     "output_type": "stream",
     "text": [
      "True\n",
      "[0 1 2 3 4 5 6 7 8 9] [0 1 2 3 4 5 6 7 8 9]\n",
      "[0 1 9 3 4 5 6 7 8 9] [0 1 9 3 4 5 6 7 8 9]\n",
      "**************************************************\n",
      "False\n",
      "[  0   1   9 100   4   5   6   7   8   9] [0 1 9 3 4 5 6 7 8 9]\n"
     ]
    }
   ],
   "source": [
    "# 数组的复制\n",
    "ar1 = np.arange(10)\n",
    "ar2 = ar1\n",
    "print(ar2 is ar1)  # 说明ar2和ar1指向的是同一个地址返回True\n",
    "print(ar1, ar2)\n",
    "ar1[2] = 9\n",
    "print(ar1, ar2)  # 改变ar1，ar2也随之改变\n",
    "print(\"*\" * 50)\n",
    "# 复制\n",
    "ar2 = ar1.copy()\n",
    "ar1[3] = 100\n",
    "print(ar1 is ar2)\n",
    "print(ar1, ar2)"
   ]
  },
  {
   "cell_type": "code",
   "execution_count": 82,
   "metadata": {},
   "outputs": [
    {
     "name": "stdout",
     "output_type": "stream",
     "text": [
      "[0. 1. 2. 3. 4. 5. 6. 7. 8. 9.] float64\n",
      "**************************************************\n",
      "[0 1 2 3 4 5 6 7 8 9] int32\n",
      "[0. 1. 2. 3. 4. 5. 6. 7. 8. 9.] float64\n"
     ]
    }
   ],
   "source": [
    "# 数组类型转换:.astype()\n",
    "ar1 = np.arange(10, dtype=float)\n",
    "print(ar1, ar1.dtype)\n",
    "print(\"*\" * 50)\n",
    "ar2 = ar1.astype(np.int32)\n",
    "print(ar2, ar2.dtype)\n",
    "print(ar1, ar1.dtype)"
   ]
  },
  {
   "cell_type": "code",
   "execution_count": 94,
   "metadata": {},
   "outputs": [
    {
     "name": "stdout",
     "output_type": "stream",
     "text": [
      "[0 1 2 3 4] (5,)\n",
      "[5 6 7 8] (4,)\n",
      "[0 1 2 3 4 5 6 7 8] (9,)\n",
      "**************************************************\n",
      "[[1]\n",
      " [2]\n",
      " [3]] (3, 1)\n",
      "[['a']\n",
      " ['b']\n",
      " ['c']] (3, 1)\n",
      "[['1' 'a']\n",
      " ['2' 'b']\n",
      " ['3' 'c']] (3, 2)\n",
      "**************************************************\n",
      "[0 1 2 3 4] (5,)\n",
      "[5 6 7 8 9] (5,)\n",
      "[[0 1 2 3 4]\n",
      " [5 6 7 8 9]] (2, 5)\n",
      "**************************************************\n",
      "[[0 5]\n",
      " [1 6]\n",
      " [2 7]\n",
      " [3 8]\n",
      " [4 9]]\n",
      "[[0 1 2 3 4]\n",
      " [5 6 7 8 9]]\n"
     ]
    }
   ],
   "source": [
    "# 数组堆叠\n",
    "a = np.arange(5)  # a为一维数组，5个元素\n",
    "b = np.arange(5, 9)  # b为一维数组，4个元素\n",
    "print(a, a.shape)\n",
    "print(b, b.shape)\n",
    "# 横向拼接\n",
    "ar1 = np.hstack((a, b))\n",
    "print(ar1, ar1.shape)\n",
    "print(\"*\" * 50)\n",
    "a = np.array([[1], [2], [3]])  # a为二维数组，3行1列\n",
    "b = np.array([['a'], ['b'], ['c']])  # b为2维数组，3行1列\n",
    "print(a, a.shape)\n",
    "print(b, b.shape)\n",
    "# 横向拼接\n",
    "ar2 = np.hstack((a, b))\n",
    "print(ar2, ar2.shape)\n",
    "print(\"*\" * 50)\n",
    "a = np.arange(5)\n",
    "b = np.arange(5, 10)\n",
    "print(a, a.shape)\n",
    "print(b, b.shape)\n",
    "# 纵向拼接\n",
    "ar3 = np.vstack((a, b))\n",
    "print(ar3, ar3.shape)\n",
    "print(\"*\" * 50)\n",
    "# 用stack方法拼接数据\n",
    "a = np.arange(5)\n",
    "b = np.arange(5, 10)\n",
    "ar1 = np.stack((a, b), axis=1)\n",
    "print(ar1)\n",
    "ar2 = np.stack((a, b), axis=0)\n",
    "print(ar2)"
   ]
  },
  {
   "cell_type": "code",
   "execution_count": 97,
   "metadata": {},
   "outputs": [
    {
     "name": "stdout",
     "output_type": "stream",
     "text": [
      "[[ 0  1  2  3]\n",
      " [ 4  5  6  7]\n",
      " [ 8  9 10 11]\n",
      " [12 13 14 15]]\n",
      "[array([[ 0,  1],\n",
      "       [ 4,  5],\n",
      "       [ 8,  9],\n",
      "       [12, 13]]), array([[ 2,  3],\n",
      "       [ 6,  7],\n",
      "       [10, 11],\n",
      "       [14, 15]])] <class 'list'>\n",
      "**************************************************\n",
      "[array([[0, 1, 2, 3]]), array([[4, 5, 6, 7]]), array([[ 8,  9, 10, 11]]), array([[12, 13, 14, 15]])] <class 'list'>\n"
     ]
    }
   ],
   "source": [
    "# 数组拆分\n",
    "ar = np.arange(16).reshape(4, 4)\n",
    "# 横向拆分\n",
    "ar1 = np.hsplit(ar, 2)\n",
    "print(ar)\n",
    "print(ar1, type(ar1))\n",
    "# numpy.hsplit(ary, indices_or_sections):将数组水平方向逐列拆分为多个子数组\n",
    "# 输出结果为列表，列表中的元素为数组\n",
    "print(\"*\" * 50)\n",
    "ar2 = np.vsplit(ar, 4)\n",
    "print(ar2, type(ar2))\n",
    "# numpy.vsplit(ary, indices_or_sections):将数组垂直方向逐行拆分为多个子数组"
   ]
  },
  {
   "cell_type": "code",
   "execution_count": 105,
   "metadata": {},
   "outputs": [
    {
     "name": "stdout",
     "output_type": "stream",
     "text": [
      "[[0 1 2]\n",
      " [3 4 5]]\n",
      "[[10 11 12]\n",
      " [13 14 15]]\n",
      "[[ 0  2  4]\n",
      " [ 6  8 10]]\n",
      "[[1.         0.5        0.33333333]\n",
      " [0.25       0.2        0.16666667]]\n",
      "[[0.         1.         1.41421356]\n",
      " [1.73205081 2.         2.23606798]]\n",
      "2.5\n",
      "5\n",
      "0\n",
      "1.707825127659933\n",
      "2.9166666666666665\n",
      "15 [3 5 7]\n",
      "[1 2 3 5 7 8 9]\n"
     ]
    }
   ],
   "source": [
    "# 数组简单运算\n",
    "ar = np.arange(6).reshape(2, 3)\n",
    "print(ar)\n",
    "print(ar + 10)\n",
    "print(ar * 2)\n",
    "print(1 / (ar + 1))\n",
    "print(ar ** 0.5)  # 幂\n",
    "# 与标量的计算\n",
    "\n",
    "print(ar.mean())  # 求平均值\n",
    "print(ar.max())  # 求最大值\n",
    "print(ar.min())  # 求最小值\n",
    "print(ar.std())  # 求标准差\n",
    "print(ar.var())  # 求方差\n",
    "print(ar.sum(), np.sum(ar, axis=0))  # 求和，np.sum()->axis=0,按列求和，axis=1，按行求和\n",
    "print(np.sort(np.array([1, 3, 5, 2, 9, 7, 8])))  # 排序\n",
    "# 常用函数"
   ]
  },
  {
   "cell_type": "markdown",
   "metadata": {},
   "source": [
    "# 作业"
   ]
  },
  {
   "cell_type": "code",
   "execution_count": 107,
   "metadata": {},
   "outputs": [
    {
     "name": "stdout",
     "output_type": "stream",
     "text": [
      "[[ 0  1  2  3  4]\n",
      " [ 5  6  7  8  9]\n",
      " [10 11 12 13 14]\n",
      " [15 16 17 18 19]]\n",
      "[[ 0  1  2  3  4  5]\n",
      " [ 6  7  8  9 10 11]\n",
      " [12 13 14 15 16 17]\n",
      " [18 19  0  1  2  3]\n",
      " [ 4  5  6  7  8  9]]\n"
     ]
    }
   ],
   "source": [
    "# 作业1：创建一个20个元素的数组，分别改变成两个形状：(4,5),(5,6) （提示：超出范围用resize）\n",
    "ar1 = np.resize(np.arange(20), (4, 5))\n",
    "print(ar1)\n",
    "ar2 = np.resize(np.arange(20), (5, 6))\n",
    "print(ar2)"
   ]
  },
  {
   "cell_type": "code",
   "execution_count": 114,
   "metadata": {},
   "outputs": [
    {
     "name": "stdout",
     "output_type": "stream",
     "text": [
      "[[ 0  1  2  3]\n",
      " [ 4  5  6  7]\n",
      " [ 8  9 10 11]\n",
      " [12 13 14 15]]\n",
      "[['0' '1' '2' '3']\n",
      " ['4' '5' '6' '7']\n",
      " ['8' '9' '10' '11']\n",
      " ['12' '13' '14' '15']]\n"
     ]
    }
   ],
   "source": [
    "# 作业2：创建一个(4,4)的数组，把其元素类型改为字符型\n",
    "ar1 = np.arange(16).reshape(4, 4)\n",
    "print(ar1)\n",
    "ar2 = ar1.astype(np.str)\n",
    "print(ar2)"
   ]
  },
  {
   "cell_type": "code",
   "execution_count": 51,
   "metadata": {},
   "outputs": [
    {
     "name": "stdout",
     "output_type": "stream",
     "text": [
      "[[ 0  1  2  3]\n",
      " [ 4  5  6  7]\n",
      " [ 8  9 10 11]\n",
      " [12 13 14 15]]\n",
      "**************************************************\n",
      "[[100 110 120 130]\n",
      " [140 150 160 170]\n",
      " [180 190 200 210]\n",
      " [220 230 240 250]]\n",
      "175.0\n",
      "2800\n"
     ]
    }
   ],
   "source": [
    "# 作业3：根据要求创建数组，运用数组的运算方法得到结果：result = ar * 10 +100，并求出result的均值及求和\n",
    "ar1 = np.arange(16).reshape(4, 4)\n",
    "print(ar1)\n",
    "print(\"*\" * 50)\n",
    "result = ar1 * 10 + 100\n",
    "print(result)\n",
    "print(result.mean())\n",
    "print(result.sum())"
   ]
  },
  {
   "cell_type": "code",
   "execution_count": null,
   "metadata": {},
   "outputs": [],
   "source": [
    "'''\n",
    "numpy随机数\n",
    "numpy.random包含多种概率分布的随机样本，是数据分析辅助的重点工具之一\n",
    "'''"
   ]
  },
  {
   "cell_type": "code",
   "execution_count": 53,
   "metadata": {},
   "outputs": [
    {
     "name": "stdout",
     "output_type": "stream",
     "text": [
      "[[-1.49388272 -1.02119254  0.22654305 -0.7873649 ]\n",
      " [ 0.53152096 -0.66873612  1.54251477  0.0521407 ]\n",
      " [-0.82817358 -0.01939108 -0.7006808   0.59902857]\n",
      " [ 1.55865823 -0.55143675  0.56567752 -1.52199508]]\n"
     ]
    }
   ],
   "source": [
    "# 随机数生成\n",
    "samples = np.random.normal(size=(4, 4))\n",
    "print(samples)  # 生成一个标准正态分布的4×4样本值"
   ]
  },
  {
   "cell_type": "code",
   "execution_count": 65,
   "metadata": {},
   "outputs": [
    {
     "name": "stdout",
     "output_type": "stream",
     "text": [
      "0.9463357332352605 <class 'float'>\n",
      "[0.30612985 0.52566847 0.36188103 0.73645731] <class 'numpy.ndarray'>\n",
      "[[0.91298982 0.41784254 0.08776575]\n",
      " [0.66296883 0.64882913 0.82427622]] <class 'numpy.ndarray'>\n"
     ]
    },
    {
     "data": {
      "text/plain": [
       "<matplotlib.collections.PathCollection at 0x11f170be0>"
      ]
     },
     "execution_count": 65,
     "metadata": {},
     "output_type": "execute_result"
    },
    {
     "data": {
      "image/png": "[encoded data removed]",
      "text/plain": [
       "<Figure size 432x288 with 1 Axes>"
      ]
     },
     "metadata": {
      "needs_background": "light"
     },
     "output_type": "display_data"
    }
   ],
   "source": [
    "# numpy.random.rand(d0, d1, ..., dn):生成一个[0, 1)之间的随机浮点数或N维浮点数组——均匀分布\n",
    "from matplotlib import pyplot as plt  # 导入matplotlib模块,用于图表辅助分析\n",
    "\n",
    "a = np.random.rand()\n",
    "print(a, type(a))  # 生成一个[0, 1]之间的随机浮点数\n",
    "\n",
    "b = np.random.rand(4)\n",
    "print(b, type(b))  # 生成一个包含[0, 1]之间随机数的一维数组\n",
    "\n",
    "c = np.random.rand(2, 3)  # 生成[0,1]之间随机数的2行3列的数组\n",
    "print(c, type(c))\n",
    "\n",
    "samples1 = np.random.rand(1000) \n",
    "samples2 = np.random.rand(1000)\n",
    "# 生成1000个随机浮点数\n",
    "%matplotlib inline  \n",
    "# 魔法函数，每次运行自动生成图表\n",
    "plt.scatter(samples1, samples2)  # 生成均匀分布的图像"
   ]
  },
  {
   "cell_type": "code",
   "execution_count": 69,
   "metadata": {},
   "outputs": [
    {
     "data": {
      "text/plain": [
       "<matplotlib.collections.PathCollection at 0x11f18d908>"
      ]
     },
     "execution_count": 69,
     "metadata": {},
     "output_type": "execute_result"
    },
    {
     "data": {
      "image/png": "[encoded data removed]",
      "text/plain": [
       "<Figure size 432x288 with 1 Axes>"
      ]
     },
     "metadata": {
      "needs_background": "light"
     },
     "output_type": "display_data"
    }
   ],
   "source": [
    "# numpy.random.randn(d0, d1, d2, ..., dn):生成一个浮点数或N维浮点数组——正态分布\n",
    "samples1 = np.random.randn(1000)\n",
    "samples2 = np.random.randn(1000)\n",
    "plt.scatter(samples1, samples2)\n",
    "# 生成1000个正态分布的样本值\n",
    "# 并画出正态分布的图像"
   ]
  },
  {
   "cell_type": "code",
   "execution_count": 88,
   "metadata": {},
   "outputs": [
    {
     "name": "stdout",
     "output_type": "stream",
     "text": [
      "1\n",
      "[0 1 1 1 1]\n",
      "[3 3 5 4 4]\n",
      "[[0 1 1]\n",
      " [1 1 0]]\n",
      "[[3 3 3]\n",
      " [4 4 2]]\n"
     ]
    }
   ],
   "source": [
    "# numpy.random.randint(low, high=None, size=None, dtype='1'):生成一个随机整数或N维整数数组\n",
    "# 若high不为None时，取[low, high)之间随机整数，否则取值[0, low)之间的随机整数，且high必须大于low\n",
    "# dtype参数:只能是int类型\n",
    "print(np.random.randint(2))  # 生成一个1个[0, 2)之间随机整数\n",
    "\n",
    "print(np.random.randint(2, size=5))  # 生成5个[0, 2)的随机整数\n",
    "\n",
    "print(np.random.randint(2, 6, size=5))  # 生成5个[2, 6)的随机整数\n",
    "\n",
    "print(np.random.randint(2, size=(2, 3)))  # 生成一个包含[0, 2)随机整数的2行3列的数组\n",
    "\n",
    "print(np.random.randint(2, 6, (2, 3)))  # 生成一个[2, 6)之间随机整数的2行3列随机整数"
   ]
  },
  {
   "cell_type": "markdown",
   "metadata": {},
   "source": [
    "# 作业"
   ]
  },
  {
   "cell_type": "code",
   "execution_count": 105,
   "metadata": {},
   "outputs": [
    {
     "name": "stdout",
     "output_type": "stream",
     "text": [
      "[[ 0.  1.  2.  3.  4.]\n",
      " [ 5.  6.  7.  8.  9.]\n",
      " [10. 11. 12. 13. 14.]\n",
      " [15. 16. 17. 18. 19.]\n",
      " [20. 21. 22. 23. 24.]]\n",
      "[[0. 1.]\n",
      " [5. 6.]]\n",
      "[[ 0.77326971  0.65496861  2.          3.          4.        ]\n",
      " [ 0.84391949  0.20703134  7.          8.          9.        ]\n",
      " [10.         11.         12.         13.         14.        ]\n",
      " [15.         16.         17.         18.         19.        ]\n",
      " [20.         21.         22.         23.         24.        ]]\n"
     ]
    }
   ],
   "source": [
    "# 作业1：请按照要求创建数组ar，再将ar[:2,:2]的值改为[0,1)的随机数\n",
    "ar = np.arange(25, dtype=np.float).reshape(5, 5)\n",
    "print(ar)\n",
    "print(ar[:2, :2])\n",
    "ar[:2, :2] = np.random.rand(2, 2)\n",
    "print(ar)"
   ]
  },
  {
   "cell_type": "code",
   "execution_count": 112,
   "metadata": {},
   "outputs": [
    {
     "name": "stdout",
     "output_type": "stream",
     "text": [
      "[[-0.38909347  0.4289356   0.03495026  0.64691474  0.12710887]\n",
      " [ 2.03277221  0.57171605  0.10559419 -0.08084133 -0.550938  ]]\n",
      "**************************************************\n",
      "[[ 0.11287174 -0.37286939 -2.57041376 -0.54619629 -1.87462794]\n",
      " [ 0.09329723  0.73768567  0.39854207  1.02959448 -0.66092746]]\n"
     ]
    }
   ],
   "source": [
    "# 作业2： 创建2个包含10个元素的正太分布数组\n",
    "samples1 = np.random.normal(size=(2, 5))\n",
    "samples2 = np.random.normal(size=(2, 5))\n",
    "print(samples1)\n",
    "print(\"*\" * 50)\n",
    "print(samples2)"
   ]
  },
  {
   "cell_type": "code",
   "execution_count": null,
   "metadata": {},
   "outputs": [],
   "source": [
    "'''\n",
    "numpy数据的输入输出\n",
    "numpy读取/写入数组数据、文本数据\n",
    "'''"
   ]
  },
  {
   "cell_type": "code",
   "execution_count": 115,
   "metadata": {},
   "outputs": [
    {
     "name": "stdout",
     "output_type": "stream",
     "text": [
      "[[0.21086835 0.89868899 0.32305925 0.35461557 0.7192108 ]\n",
      " [0.58993013 0.45076443 0.44217994 0.16008617 0.87246947]\n",
      " [0.19190161 0.96826788 0.39656848 0.20580866 0.61012917]\n",
      " [0.78980199 0.9278296  0.47288558 0.0397301  0.33378395]\n",
      " [0.74329777 0.52249755 0.65089523 0.25124734 0.47556503]]\n"
     ]
    }
   ],
   "source": [
    "# 存储数组数据 .npy文件\n",
    "import os\n",
    "os.chdir(\"/Users/zenngyu/Desktop\")\n",
    "\n",
    "ar = np.random.rand(5, 5)\n",
    "print(ar)\n",
    "np.save(\"npy_data\", ar)  # 存储数据"
   ]
  },
  {
   "cell_type": "code",
   "execution_count": 117,
   "metadata": {},
   "outputs": [
    {
     "name": "stdout",
     "output_type": "stream",
     "text": [
      "[[0.21086835 0.89868899 0.32305925 0.35461557 0.7192108 ]\n",
      " [0.58993013 0.45076443 0.44217994 0.16008617 0.87246947]\n",
      " [0.19190161 0.96826788 0.39656848 0.20580866 0.61012917]\n",
      " [0.78980199 0.9278296  0.47288558 0.0397301  0.33378395]\n",
      " [0.74329777 0.52249755 0.65089523 0.25124734 0.47556503]]\n"
     ]
    }
   ],
   "source": [
    "ar_load = np.load(\"npy_data.npy\")  # 读取数据\n",
    "print(ar_load)"
   ]
  },
  {
   "cell_type": "code",
   "execution_count": 124,
   "metadata": {},
   "outputs": [
    {
     "name": "stdout",
     "output_type": "stream",
     "text": [
      "[[0.68703066 0.94106568 0.02404522 0.19761899 0.77082078]\n",
      " [0.23009777 0.10693471 0.15396419 0.23068125 0.39282612]\n",
      " [0.02190324 0.72504056 0.52359317 0.93508193 0.67343271]\n",
      " [0.62735618 0.24282356 0.2030196  0.86652081 0.88847765]\n",
      " [0.06257887 0.3556411  0.04926456 0.34320114 0.87790435]]\n"
     ]
    }
   ],
   "source": [
    "# 存储读取文本文件\n",
    "ar = np.random.rand(5, 5)\n",
    "print(ar)\n",
    "np.savetxt(\"save_txt_data.txt\", ar, delimiter=\",\", fmt=\"%.2f\")"
   ]
  },
  {
   "cell_type": "code",
   "execution_count": 126,
   "metadata": {},
   "outputs": [
    {
     "name": "stdout",
     "output_type": "stream",
     "text": [
      "[[0.69 0.94 0.02 0.2  0.77]\n",
      " [0.23 0.11 0.15 0.23 0.39]\n",
      " [0.02 0.73 0.52 0.94 0.67]\n",
      " [0.63 0.24 0.2  0.87 0.89]\n",
      " [0.06 0.36 0.05 0.34 0.88]]\n"
     ]
    }
   ],
   "source": [
    "# 读取文本文件\n",
    "data = np.loadtxt(\"save_txt_data.txt\", delimiter=\",\")\n",
    "print(data)"
   ]
  },
  {
   "cell_type": "markdown",
   "metadata": {},
   "source": [
    "# 作业"
   ]
  },
  {
   "cell_type": "code",
   "execution_count": 130,
   "metadata": {},
   "outputs": [
    {
     "name": "stdout",
     "output_type": "stream",
     "text": [
      "[[64 47 26 99 16 61 81 90 53 47]\n",
      " [20 24 26 21 14 76 65  1 74 88]\n",
      " [65 50 80 20 51  6  8 11 92 34]\n",
      " [69 70 39 55 69 44 63 55 99 25]\n",
      " [76 41  5 40 49 20 34 54  4 94]\n",
      " [72 86 58 89 90 91 10 57 16 90]\n",
      " [79 71 83 15 36 92 24 61 94 31]\n",
      " [51 42 40 39 55  8 39 38  1 39]\n",
      " [48 33 78 19 64 74 63 39 33 76]\n",
      " [71  9  8 67 83 85 52  8 72 40]]\n"
     ]
    }
   ],
   "source": [
    "# 作业1：创建一个10*10的整数随机数组，取值范围为0-100，并存为txt文件，用逗号分开\n",
    "data = np.random.randint(0, 100, size=(10, 10))\n",
    "print(data)\n",
    "np.savetxt(\"data.txt\", data, delimiter=\",\", fmt=\"%d\")"
   ]
  }
 ],
 "metadata": {
  "kernelspec": {
   "display_name": "Python 3",
   "language": "python",
   "name": "python3"
  },
  "language_info": {
   "codemirror_mode": {
    "name": "ipython",
    "version": 3
   },
   "file_extension": ".py",
   "mimetype": "text/x-python",
   "name": "python",
   "nbconvert_exporter": "python",
   "pygments_lexer": "ipython3",
   "version": "3.8.0"
  }
 },
 "nbformat": 4,
 "nbformat_minor": 2
}
